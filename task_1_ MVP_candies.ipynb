{
 "cells": [
  {
   "cell_type": "code",
   "execution_count": 4,
   "id": "9d1f4200",
   "metadata": {},
   "outputs": [
    {
     "name": "stdout",
     "output_type": "stream",
     "text": [
      "1\n"
     ]
    }
   ],
   "source": [
    "# Алгоритм решения:\n",
    "# 1. Посчитать количество конфет каждого типа (unique_types) - сделать из значений список (candy_type_count_list)\n",
    "# 2. В цикле каждое значение из списка разложить на множители и добавить в новый список (lst2)\n",
    "# 3. От получившегося единого списка множителей взять stat.multimode(lst2)[0] - это и будет количество друзей\n",
    "\n",
    "\n",
    "import fileinput\n",
    "import json\n",
    "\n",
    "# дополнительный импорт библиотек, если требуются\n",
    "import statistics as stat\n",
    "import pandas as pd\n",
    "from collections import Counter\n",
    "import numpy as N\n",
    "\n",
    "# объявление функций\n",
    "def get_friend(candies):\n",
    "    \n",
    "    # Делаем список уникальных значений - \"Типов конфет\"\n",
    "    res = N.array(candies) \n",
    "    unique_types = N.unique(res) \n",
    "    \n",
    "    # Делаем список из \"количеств каждого типа конфет\"\n",
    "    candy_type_count_list = []\n",
    "    n = 0\n",
    "    for i in unique_types:\n",
    "        for j in candies:\n",
    "             if i == j:\n",
    "                n += 1\n",
    "        candy_type_count_list.append(n)\n",
    "        n = 0\n",
    "    \n",
    "    # Делаем единый список из всех делителей всех \"Количеств\"\n",
    "    lst2 = []\n",
    "    for n in candy_type_count_list:\n",
    "        divider = n\n",
    "        while divider > 0:\n",
    "            if n % divider == 0:\n",
    "                lst2.append(divider)\n",
    "            divider -= 1\n",
    "    \n",
    "    # Берем самую большую моду в нашем списке - это самое большое количество Друзей\n",
    "    result = stat.multimode(lst2)[0]\n",
    "     # вывод результата работы вашей функции\n",
    "    return result\n",
    "\n",
    "# считывание из stdin\n",
    "for line in fileinput.input('input.txt'):\n",
    "    # преобразование в объект python\n",
    "    candies = json.loads(line)\n",
    "\n",
    "    # вызов функции и вывод результата в консоль\n",
    "    print(get_friend(candies))"
   ]
  }
 ],
 "metadata": {
  "kernelspec": {
   "display_name": "Python 3 (ipykernel)",
   "language": "python",
   "name": "python3"
  },
  "language_info": {
   "codemirror_mode": {
    "name": "ipython",
    "version": 3
   },
   "file_extension": ".py",
   "mimetype": "text/x-python",
   "name": "python",
   "nbconvert_exporter": "python",
   "pygments_lexer": "ipython3",
   "version": "3.9.12"
  }
 },
 "nbformat": 4,
 "nbformat_minor": 5
}
