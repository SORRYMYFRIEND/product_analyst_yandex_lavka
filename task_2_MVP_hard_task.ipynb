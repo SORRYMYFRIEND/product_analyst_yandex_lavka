{
 "cells": [
  {
   "cell_type": "code",
   "execution_count": 139,
   "id": "29734e0b",
   "metadata": {},
   "outputs": [],
   "source": [
    "# Эта задача настолько сложная, что её правильно решают только 5% кандидатов. \n",
    "# Более того, даже проводящий собеседование в 2% случаев принимает неверное решение за верное (верные решения он всегда узнаёт).\n",
    "# Проводящий собеседование говорит вам, что вы справились с задачей. \n",
    "# Какова вероятность в процентах, что вы дали правильный ответ?"
   ]
  },
  {
   "cell_type": "markdown",
   "id": "38efe80b",
   "metadata": {},
   "source": [
    "События:\n",
    "A - я решил верно, p(A) = 0.05\n",
    "B - я решил неверно, p(B) = 0.95\n",
    "D - проверяющий принял неверный ответ за верный, p(C) = 0.02\n",
    "C - проверяющий принял неверный ответ за неверный, p(D) = 0.98\n"
   ]
  },
  {
   "cell_type": "code",
   "execution_count": 140,
   "id": "47fd199c",
   "metadata": {},
   "outputs": [
    {
     "data": {
      "text/plain": [
       "0.019"
      ]
     },
     "execution_count": 140,
     "metadata": {},
     "output_type": "execute_result"
    }
   ],
   "source": [
    "# Итого мы можем получить вердикт о правильном решении в 2 случаях:\n",
    "# 1. Мы решили верно - вероятность 0.05\n",
    "# 2. Мы решили неправильно, но проверяющий ошибся и засчитал\n",
    "# Считаем вероятность, того что наш неверный ответ будет принят за верный p(BC):\n",
    "\n",
    "0.95*0.02"
   ]
  },
  {
   "cell_type": "code",
   "execution_count": 141,
   "id": "16b5747c",
   "metadata": {},
   "outputs": [
    {
     "data": {
      "text/plain": [
       "0.069"
      ]
     },
     "execution_count": 141,
     "metadata": {},
     "output_type": "execute_result"
    }
   ],
   "source": [
    "# Итого наша вероятность получить вердикт о правильном решении = p(A) + p(BC):\n",
    "0.05 + 0.019"
   ]
  },
  {
   "cell_type": "code",
   "execution_count": 143,
   "id": "84029b21",
   "metadata": {},
   "outputs": [
    {
     "data": {
      "text/plain": [
       "72.46376811594203"
      ]
     },
     "execution_count": 143,
     "metadata": {},
     "output_type": "execute_result"
    }
   ],
   "source": [
    "# Теперь нам просто нужно узнать, какова вероятность, \n",
    "# что вердикт о правильном решении был вынесен именно благодаря нашему правильному решению,\n",
    "# а не из-за ошибки проверяющего:\n",
    "# Примем 0.069 за 100% и сделаем простую пропорцию:\n",
    "\n",
    "0.05 / 0.069 * 100"
   ]
  },
  {
   "cell_type": "code",
   "execution_count": null,
   "id": "0dc2950f",
   "metadata": {},
   "outputs": [],
   "source": [
    "# Итого: 72.46%"
   ]
  }
 ],
 "metadata": {
  "kernelspec": {
   "display_name": "Python 3 (ipykernel)",
   "language": "python",
   "name": "python3"
  },
  "language_info": {
   "codemirror_mode": {
    "name": "ipython",
    "version": 3
   },
   "file_extension": ".py",
   "mimetype": "text/x-python",
   "name": "python",
   "nbconvert_exporter": "python",
   "pygments_lexer": "ipython3",
   "version": "3.9.12"
  }
 },
 "nbformat": 4,
 "nbformat_minor": 5
}
